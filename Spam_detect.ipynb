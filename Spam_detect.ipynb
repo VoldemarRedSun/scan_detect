{
  "nbformat": 4,
  "nbformat_minor": 0,
  "metadata": {
    "colab": {
      "provenance": [],
      "gpuType": "T4"
    },
    "kernelspec": {
      "name": "python3",
      "display_name": "Python 3"
    },
    "language_info": {
      "name": "python"
    },
    "accelerator": "GPU",
    "widgets": {
      "application/vnd.jupyter.widget-state+json": {
        "910d1ad3c65f42738369bd31f10c5684": {
          "model_module": "catboost-widget",
          "model_name": "CatboostWidgetModel",
          "model_module_version": "^1.0.0",
          "state": {
            "_dom_classes": [],
            "_model_module": "catboost-widget",
            "_model_module_version": "^1.0.0",
            "_model_name": "CatboostWidgetModel",
            "_view_count": null,
            "_view_module": "catboost-widget",
            "_view_module_version": "^1.0.0",
            "_view_name": "CatboostWidgetView",
            "data": {
              "catboost_info": {
                "path": "catboost_info",
                "name": "catboost_info",
                "content": {
                  "passed_iterations": 99,
                  "total_iterations": 100,
                  "data": {
                    "iterations": [
                      {
                        "learn": [
                          0.620331067
                        ],
                        "iteration": 0,
                        "passed_time": 0.2662172751,
                        "remaining_time": 26.35551024,
                        "test": [
                          0.915650711,
                          0.6199402181
                        ]
                      },
                      {
                        "learn": [
                          0.5587823474
                        ],
                        "iteration": 1,
                        "passed_time": 0.6125233431,
                        "remaining_time": 30.01364381,
                        "test": [
                          0.9383100137,
                          0.5576729197
                        ]
                      },
                      {
                        "learn": [
                          0.5095763933
                        ],
                        "iteration": 2,
                        "passed_time": 0.9050144035,
                        "remaining_time": 29.26213238,
                        "test": [
                          0.9388701311,
                          0.507942113
                        ]
                      },
                      {
                        "learn": [
                          0.468529246
                        ],
                        "iteration": 3,
                        "passed_time": 1.152758047,
                        "remaining_time": 27.66619313,
                        "test": [
                          0.9396578686,
                          0.4662559951
                        ]
                      },
                      {
                        "learn": [
                          0.4329216491
                        ],
                        "iteration": 4,
                        "passed_time": 1.411817533,
                        "remaining_time": 26.82453313,
                        "test": [
                          0.9405347854,
                          0.4301017256
                        ]
                      },
                      {
                        "learn": [
                          0.4008699734
                        ],
                        "iteration": 5,
                        "passed_time": 1.652659581,
                        "remaining_time": 25.89166678,
                        "test": [
                          0.9509498449,
                          0.3975996347
                        ]
                      },
                      {
                        "learn": [
                          0.3735206479
                        ],
                        "iteration": 6,
                        "passed_time": 1.901557188,
                        "remaining_time": 25.2635455,
                        "test": [
                          0.9508630578,
                          0.3700750799
                        ]
                      },
                      {
                        "learn": [
                          0.3510530569
                        ],
                        "iteration": 7,
                        "passed_time": 2.261260666,
                        "remaining_time": 26.00449766,
                        "test": [
                          0.9514216801,
                          0.3475309323
                        ]
                      },
                      {
                        "learn": [
                          0.3316281898
                        ],
                        "iteration": 8,
                        "passed_time": 2.668230912,
                        "remaining_time": 26.97877922,
                        "test": [
                          0.954079715,
                          0.3280872329
                        ]
                      },
                      {
                        "learn": [
                          0.3134384299
                        ],
                        "iteration": 9,
                        "passed_time": 3.107863462,
                        "remaining_time": 27.97077116,
                        "test": [
                          0.9577214875,
                          0.3096048033
                        ]
                      },
                      {
                        "learn": [
                          0.2966299721
                        ],
                        "iteration": 10,
                        "passed_time": 3.507722523,
                        "remaining_time": 28.38066405,
                        "test": [
                          0.9609504041,
                          0.292653769
                        ]
                      },
                      {
                        "learn": [
                          0.2829933595
                        ],
                        "iteration": 11,
                        "passed_time": 4.055122896,
                        "remaining_time": 29.73756791,
                        "test": [
                          0.9613708098,
                          0.2788972904
                        ]
                      },
                      {
                        "learn": [
                          0.2701895153
                        ],
                        "iteration": 12,
                        "passed_time": 4.541425065,
                        "remaining_time": 30.3926139,
                        "test": [
                          0.9628384177,
                          0.2660352347
                        ]
                      },
                      {
                        "learn": [
                          0.2603439044
                        ],
                        "iteration": 13,
                        "passed_time": 5.073751093,
                        "remaining_time": 31.16732814,
                        "test": [
                          0.9630930233,
                          0.2563481005
                        ]
                      },
                      {
                        "learn": [
                          0.2505507412
                        ],
                        "iteration": 14,
                        "passed_time": 5.50032887,
                        "remaining_time": 31.16853026,
                        "test": [
                          0.9634196152,
                          0.2465360685
                        ]
                      },
                      {
                        "learn": [
                          0.2417741622
                        ],
                        "iteration": 15,
                        "passed_time": 5.965125991,
                        "remaining_time": 31.31691145,
                        "test": [
                          0.9631663551,
                          0.2376712553
                        ]
                      },
                      {
                        "learn": [
                          0.2340535643
                        ],
                        "iteration": 16,
                        "passed_time": 6.49418861,
                        "remaining_time": 31.70692086,
                        "test": [
                          0.9633441903,
                          0.2299081796
                        ]
                      },
                      {
                        "learn": [
                          0.2275039335
                        ],
                        "iteration": 17,
                        "passed_time": 6.900533774,
                        "remaining_time": 31.43576497,
                        "test": [
                          0.9628254856,
                          0.2233949719
                        ]
                      },
                      {
                        "learn": [
                          0.220387264
                        ],
                        "iteration": 18,
                        "passed_time": 7.509912447,
                        "remaining_time": 32.01594254,
                        "test": [
                          0.9638337418,
                          0.2165306606
                        ]
                      },
                      {
                        "learn": [
                          0.2161378691
                        ],
                        "iteration": 19,
                        "passed_time": 8.252611924,
                        "remaining_time": 33.0104477,
                        "test": [
                          0.9638365076,
                          0.2121233465
                        ]
                      },
                      {
                        "learn": [
                          0.2117346632
                        ],
                        "iteration": 20,
                        "passed_time": 8.995698721,
                        "remaining_time": 33.84096186,
                        "test": [
                          0.9642655846,
                          0.2078593721
                        ]
                      },
                      {
                        "learn": [
                          0.2077294785
                        ],
                        "iteration": 21,
                        "passed_time": 9.542866189,
                        "remaining_time": 33.83379831,
                        "test": [
                          0.9645769271,
                          0.2039864883
                        ]
                      },
                      {
                        "learn": [
                          0.2037662958
                        ],
                        "iteration": 22,
                        "passed_time": 10.1271068,
                        "remaining_time": 33.90379233,
                        "test": [
                          0.9673535935,
                          0.2001221875
                        ]
                      },
                      {
                        "learn": [
                          0.2002544547
                        ],
                        "iteration": 23,
                        "passed_time": 10.65235988,
                        "remaining_time": 33.73247297,
                        "test": [
                          0.9718141256,
                          0.1966623411
                        ]
                      },
                      {
                        "learn": [
                          0.1977421222
                        ],
                        "iteration": 24,
                        "passed_time": 11.17852114,
                        "remaining_time": 33.53556341,
                        "test": [
                          0.9717378037,
                          0.1941366802
                        ]
                      },
                      {
                        "learn": [
                          0.1938606567
                        ],
                        "iteration": 25,
                        "passed_time": 11.67223605,
                        "remaining_time": 33.22097952,
                        "test": [
                          0.9715535398,
                          0.1903876253
                        ]
                      },
                      {
                        "learn": [
                          0.1912557532
                        ],
                        "iteration": 26,
                        "passed_time": 12.11414527,
                        "remaining_time": 32.75305944,
                        "test": [
                          0.9717073796,
                          0.1880724965
                        ]
                      },
                      {
                        "learn": [
                          0.1891356291
                        ],
                        "iteration": 27,
                        "passed_time": 12.52122924,
                        "remaining_time": 32.19744662,
                        "test": [
                          0.9717067816,
                          0.1860965126
                        ]
                      },
                      {
                        "learn": [
                          0.1858565671
                        ],
                        "iteration": 28,
                        "passed_time": 12.92527353,
                        "remaining_time": 31.64463519,
                        "test": [
                          0.9730369951,
                          0.182804461
                        ]
                      },
                      {
                        "learn": [
                          0.1845251202
                        ],
                        "iteration": 29,
                        "passed_time": 13.31982385,
                        "remaining_time": 31.07958897,
                        "test": [
                          0.9730714558,
                          0.1813230396
                        ]
                      },
                      {
                        "learn": [
                          0.1827225313
                        ],
                        "iteration": 30,
                        "passed_time": 13.72684653,
                        "remaining_time": 30.55330357,
                        "test": [
                          0.9739799928,
                          0.1796117723
                        ]
                      },
                      {
                        "learn": [
                          0.1805461431
                        ],
                        "iteration": 31,
                        "passed_time": 14.20693758,
                        "remaining_time": 30.18974236,
                        "test": [
                          0.9741576785,
                          0.1773697077
                        ]
                      },
                      {
                        "learn": [
                          0.1793182334
                        ],
                        "iteration": 32,
                        "passed_time": 14.81485388,
                        "remaining_time": 30.07864273,
                        "test": [
                          0.9739787967,
                          0.1764598443
                        ]
                      },
                      {
                        "learn": [
                          0.1771349278
                        ],
                        "iteration": 33,
                        "passed_time": 15.47127323,
                        "remaining_time": 30.03247157,
                        "test": [
                          0.9739885145,
                          0.1744136051
                        ]
                      },
                      {
                        "learn": [
                          0.1750315636
                        ],
                        "iteration": 34,
                        "passed_time": 15.90561225,
                        "remaining_time": 29.53899418,
                        "test": [
                          0.9753848836,
                          0.1725106979
                        ]
                      },
                      {
                        "learn": [
                          0.1739426045
                        ],
                        "iteration": 35,
                        "passed_time": 16.39692117,
                        "remaining_time": 29.15008209,
                        "test": [
                          0.9753401071,
                          0.1717033497
                        ]
                      },
                      {
                        "learn": [
                          0.1722681734
                        ],
                        "iteration": 36,
                        "passed_time": 16.8155537,
                        "remaining_time": 28.63188873,
                        "test": [
                          0.9765430177,
                          0.1700529573
                        ]
                      },
                      {
                        "learn": [
                          0.170606901
                        ],
                        "iteration": 37,
                        "passed_time": 17.38979497,
                        "remaining_time": 28.37282337,
                        "test": [
                          0.9773234296,
                          0.1683074666
                        ]
                      },
                      {
                        "learn": [
                          0.1696410609
                        ],
                        "iteration": 38,
                        "passed_time": 17.84257197,
                        "remaining_time": 27.90761257,
                        "test": [
                          0.9772981634,
                          0.1673756747
                        ]
                      },
                      {
                        "learn": [
                          0.1685975924
                        ],
                        "iteration": 39,
                        "passed_time": 18.26371291,
                        "remaining_time": 27.39556936,
                        "test": [
                          0.9773187202,
                          0.166413141
                        ]
                      },
                      {
                        "learn": [
                          0.1672522661
                        ],
                        "iteration": 40,
                        "passed_time": 18.69411119,
                        "remaining_time": 26.90128195,
                        "test": [
                          0.9773626744,
                          0.1649948884
                        ]
                      },
                      {
                        "learn": [
                          0.166784793
                        ],
                        "iteration": 41,
                        "passed_time": 19.17182058,
                        "remaining_time": 26.47537128,
                        "test": [
                          0.9774338384,
                          0.1645297905
                        ]
                      },
                      {
                        "learn": [
                          0.1660634528
                        ],
                        "iteration": 42,
                        "passed_time": 19.60493871,
                        "remaining_time": 25.98794201,
                        "test": [
                          0.9774241954,
                          0.1641444619
                        ]
                      },
                      {
                        "learn": [
                          0.165475787
                        ],
                        "iteration": 43,
                        "passed_time": 20.09232876,
                        "remaining_time": 25.57205478,
                        "test": [
                          0.9775810253,
                          0.1636975233
                        ]
                      },
                      {
                        "learn": [
                          0.1651284834
                        ],
                        "iteration": 44,
                        "passed_time": 20.88303584,
                        "remaining_time": 25.52371047,
                        "test": [
                          0.9775541145,
                          0.1634587911
                        ]
                      },
                      {
                        "learn": [
                          0.164243551
                        ],
                        "iteration": 45,
                        "passed_time": 21.400676,
                        "remaining_time": 25.12253269,
                        "test": [
                          0.9776068148,
                          0.1627002303
                        ]
                      },
                      {
                        "learn": [
                          0.1639434298
                        ],
                        "iteration": 46,
                        "passed_time": 22.10161817,
                        "remaining_time": 24.92310134,
                        "test": [
                          0.9776307354,
                          0.1625000183
                        ]
                      },
                      {
                        "learn": [
                          0.1632550114
                        ],
                        "iteration": 47,
                        "passed_time": 22.80247795,
                        "remaining_time": 24.70268444,
                        "test": [
                          0.9775216721,
                          0.1619294384
                        ]
                      },
                      {
                        "learn": [
                          0.1631405104
                        ],
                        "iteration": 48,
                        "passed_time": 23.37708859,
                        "remaining_time": 24.33125547,
                        "test": [
                          0.9775365478,
                          0.1618852547
                        ]
                      },
                      {
                        "learn": [
                          0.1623215657
                        ],
                        "iteration": 49,
                        "passed_time": 23.81888866,
                        "remaining_time": 23.81888866,
                        "test": [
                          0.9774312968,
                          0.1612741687
                        ]
                      },
                      {
                        "learn": [
                          0.1616388262
                        ],
                        "iteration": 50,
                        "passed_time": 24.32142961,
                        "remaining_time": 23.36764806,
                        "test": [
                          0.9778439284,
                          0.1605518839
                        ]
                      },
                      {
                        "learn": [
                          0.1615115108
                        ],
                        "iteration": 51,
                        "passed_time": 24.81060884,
                        "remaining_time": 22.90210047,
                        "test": [
                          0.9779923861,
                          0.1604716578
                        ]
                      },
                      {
                        "learn": [
                          0.1612435893
                        ],
                        "iteration": 52,
                        "passed_time": 25.40551346,
                        "remaining_time": 22.5294176,
                        "test": [
                          0.9779876019,
                          0.1602192692
                        ]
                      },
                      {
                        "learn": [
                          0.1611016657
                        ],
                        "iteration": 53,
                        "passed_time": 25.99367149,
                        "remaining_time": 22.1427572,
                        "test": [
                          0.9780186988,
                          0.1602445546
                        ]
                      },
                      {
                        "learn": [
                          0.1609096096
                        ],
                        "iteration": 54,
                        "passed_time": 26.52393883,
                        "remaining_time": 21.70140449,
                        "test": [
                          0.9779298933,
                          0.1601613967
                        ]
                      },
                      {
                        "learn": [
                          0.1604083738
                        ],
                        "iteration": 55,
                        "passed_time": 26.92004922,
                        "remaining_time": 21.15146725,
                        "test": [
                          0.9781735851,
                          0.1596989121
                        ]
                      },
                      {
                        "learn": [
                          0.1600126692
                        ],
                        "iteration": 56,
                        "passed_time": 27.3640981,
                        "remaining_time": 20.64309155,
                        "test": [
                          0.9784195195,
                          0.1593801477
                        ]
                      },
                      {
                        "learn": [
                          0.159558569
                        ],
                        "iteration": 57,
                        "passed_time": 27.84589607,
                        "remaining_time": 20.16426957,
                        "test": [
                          0.9784548772,
                          0.1591619932
                        ]
                      },
                      {
                        "learn": [
                          0.1594240453
                        ],
                        "iteration": 58,
                        "passed_time": 28.49585002,
                        "remaining_time": 19.80220086,
                        "test": [
                          0.9784795454,
                          0.159157511
                        ]
                      },
                      {
                        "learn": [
                          0.1585902508
                        ],
                        "iteration": 59,
                        "passed_time": 29.08204856,
                        "remaining_time": 19.38803237,
                        "test": [
                          0.978551756,
                          0.1583984616
                        ]
                      },
                      {
                        "learn": [
                          0.158463265
                        ],
                        "iteration": 60,
                        "passed_time": 29.61233761,
                        "remaining_time": 18.93247815,
                        "test": [
                          0.9785995973,
                          0.1583373293
                        ]
                      },
                      {
                        "learn": [
                          0.1583169524
                        ],
                        "iteration": 61,
                        "passed_time": 30.025897,
                        "remaining_time": 18.40296913,
                        "test": [
                          0.9786066987,
                          0.1582960203
                        ]
                      },
                      {
                        "learn": [
                          0.1579252801
                        ],
                        "iteration": 62,
                        "passed_time": 30.40237117,
                        "remaining_time": 17.85536085,
                        "test": [
                          0.978742299,
                          0.1581524529
                        ]
                      },
                      {
                        "learn": [
                          0.1577974781
                        ],
                        "iteration": 63,
                        "passed_time": 30.76481227,
                        "remaining_time": 17.3052069,
                        "test": [
                          0.9787374402,
                          0.1580924179
                        ]
                      },
                      {
                        "learn": [
                          0.1575559196
                        ],
                        "iteration": 64,
                        "passed_time": 31.09967634,
                        "remaining_time": 16.74597957,
                        "test": [
                          0.9787553059,
                          0.1579362732
                        ]
                      },
                      {
                        "learn": [
                          0.1571550199
                        ],
                        "iteration": 65,
                        "passed_time": 31.42790707,
                        "remaining_time": 16.19013394,
                        "test": [
                          0.9789072769,
                          0.1575967935
                        ]
                      },
                      {
                        "learn": [
                          0.1569887966
                        ],
                        "iteration": 66,
                        "passed_time": 31.85370438,
                        "remaining_time": 15.68913798,
                        "test": [
                          0.9789094447,
                          0.1575113249
                        ]
                      },
                      {
                        "learn": [
                          0.1568423788
                        ],
                        "iteration": 67,
                        "passed_time": 32.21038793,
                        "remaining_time": 15.15782962,
                        "test": [
                          0.9789791137,
                          0.157442951
                        ]
                      },
                      {
                        "learn": [
                          0.1567134329
                        ],
                        "iteration": 68,
                        "passed_time": 32.60072268,
                        "remaining_time": 14.64670149,
                        "test": [
                          0.97898928,
                          0.1573796624
                        ]
                      },
                      {
                        "learn": [
                          0.1565469882
                        ],
                        "iteration": 69,
                        "passed_time": 32.95194396,
                        "remaining_time": 14.1222617,
                        "test": [
                          0.9789972037,
                          0.1572839622
                        ]
                      },
                      {
                        "learn": [
                          0.156439506
                        ],
                        "iteration": 70,
                        "passed_time": 33.37509379,
                        "remaining_time": 13.63208056,
                        "test": [
                          0.9789138551,
                          0.157272146
                        ]
                      },
                      {
                        "learn": [
                          0.1561270714
                        ],
                        "iteration": 71,
                        "passed_time": 33.88953556,
                        "remaining_time": 13.17926383,
                        "test": [
                          0.9791257025,
                          0.1569577152
                        ]
                      },
                      {
                        "learn": [
                          0.1558974162
                        ],
                        "iteration": 72,
                        "passed_time": 34.4960479,
                        "remaining_time": 12.75881224,
                        "test": [
                          0.9791155362,
                          0.1569098688
                        ]
                      },
                      {
                        "learn": [
                          0.1557030512
                        ],
                        "iteration": 73,
                        "passed_time": 35.02289505,
                        "remaining_time": 12.3053415,
                        "test": [
                          0.9791831121,
                          0.156863611
                        ]
                      },
                      {
                        "learn": [
                          0.1553572895
                        ],
                        "iteration": 74,
                        "passed_time": 35.57216828,
                        "remaining_time": 11.85738943,
                        "test": [
                          0.9792993516,
                          0.1565470847
                        ]
                      },
                      {
                        "learn": [
                          0.1551804658
                        ],
                        "iteration": 75,
                        "passed_time": 36.10023084,
                        "remaining_time": 11.4000729,
                        "test": [
                          0.9794620869,
                          0.1563819307
                        ]
                      },
                      {
                        "learn": [
                          0.1548267562
                        ],
                        "iteration": 76,
                        "passed_time": 36.58660099,
                        "remaining_time": 10.92846523,
                        "test": [
                          0.9792648909,
                          0.1561371634
                        ]
                      },
                      {
                        "learn": [
                          0.1544602021
                        ],
                        "iteration": 77,
                        "passed_time": 37.01094558,
                        "remaining_time": 10.43898465,
                        "test": [
                          0.9793282059,
                          0.1558408053
                        ]
                      },
                      {
                        "learn": [
                          0.1543324349
                        ],
                        "iteration": 78,
                        "passed_time": 37.36275578,
                        "remaining_time": 9.93187179,
                        "test": [
                          0.9793306728,
                          0.1557793061
                        ]
                      },
                      {
                        "learn": [
                          0.1540117953
                        ],
                        "iteration": 79,
                        "passed_time": 37.70732446,
                        "remaining_time": 9.426831116,
                        "test": [
                          0.9792653394,
                          0.1555996872
                        ]
                      },
                      {
                        "learn": [
                          0.153854189
                        ],
                        "iteration": 80,
                        "passed_time": 38.03089269,
                        "remaining_time": 8.92082668,
                        "test": [
                          0.9793335133,
                          0.1555408264
                        ]
                      },
                      {
                        "learn": [
                          0.1538359902
                        ],
                        "iteration": 81,
                        "passed_time": 38.4033437,
                        "remaining_time": 8.430002275,
                        "test": [
                          0.979338746,
                          0.155524893
                        ]
                      },
                      {
                        "learn": [
                          0.1532979053
                        ],
                        "iteration": 82,
                        "passed_time": 38.83348508,
                        "remaining_time": 7.953846342,
                        "test": [
                          0.9791760854,
                          0.1552752125
                        ]
                      },
                      {
                        "learn": [
                          0.1530727659
                        ],
                        "iteration": 83,
                        "passed_time": 39.22142053,
                        "remaining_time": 7.470746768,
                        "test": [
                          0.9792726651,
                          0.1550140193
                        ]
                      },
                      {
                        "learn": [
                          0.1527206658
                        ],
                        "iteration": 84,
                        "passed_time": 39.6567052,
                        "remaining_time": 6.998242095,
                        "test": [
                          0.9793655072,
                          0.1546432249
                        ]
                      },
                      {
                        "learn": [
                          0.152684248
                        ],
                        "iteration": 85,
                        "passed_time": 40.08388324,
                        "remaining_time": 6.525283318,
                        "test": [
                          0.9793428573,
                          0.1546680627
                        ]
                      },
                      {
                        "learn": [
                          0.1524217167
                        ],
                        "iteration": 86,
                        "passed_time": 40.40266391,
                        "remaining_time": 6.037179665,
                        "test": [
                          0.9791281693,
                          0.1545489234
                        ]
                      },
                      {
                        "learn": [
                          0.1522530789
                        ],
                        "iteration": 87,
                        "passed_time": 40.6424173,
                        "remaining_time": 5.542147813,
                        "test": [
                          0.9791997071,
                          0.1544227326
                        ]
                      },
                      {
                        "learn": [
                          0.1519701428
                        ],
                        "iteration": 88,
                        "passed_time": 40.88837745,
                        "remaining_time": 5.053619685,
                        "test": [
                          0.9792218337,
                          0.1543110169
                        ]
                      },
                      {
                        "learn": [
                          0.1519276696
                        ],
                        "iteration": 89,
                        "passed_time": 41.14424726,
                        "remaining_time": 4.571583029,
                        "test": [
                          0.9792484455,
                          0.1542772985
                        ]
                      },
                      {
                        "learn": [
                          0.1518745962
                        ],
                        "iteration": 90,
                        "passed_time": 41.38622042,
                        "remaining_time": 4.093142679,
                        "test": [
                          0.9792696003,
                          0.1542697599
                        ]
                      },
                      {
                        "learn": [
                          0.1516121618
                        ],
                        "iteration": 91,
                        "passed_time": 41.63104739,
                        "remaining_time": 3.620091077,
                        "test": [
                          0.9794141708,
                          0.1540265619
                        ]
                      },
                      {
                        "learn": [
                          0.151516416
                        ],
                        "iteration": 92,
                        "passed_time": 41.87221944,
                        "remaining_time": 3.151672431,
                        "test": [
                          0.9794693379,
                          0.1539353114
                        ]
                      },
                      {
                        "learn": [
                          0.151384774
                        ],
                        "iteration": 93,
                        "passed_time": 42.12084423,
                        "remaining_time": 2.688564525,
                        "test": [
                          0.9795656186,
                          0.15391399
                        ]
                      },
                      {
                        "learn": [
                          0.1509280958
                        ],
                        "iteration": 94,
                        "passed_time": 42.36369507,
                        "remaining_time": 2.229668162,
                        "test": [
                          0.9795740656,
                          0.1535938595
                        ]
                      },
                      {
                        "learn": [
                          0.1507250217
                        ],
                        "iteration": 95,
                        "passed_time": 42.59791357,
                        "remaining_time": 1.774913065,
                        "test": [
                          0.9796471731,
                          0.1534396408
                        ]
                      },
                      {
                        "learn": [
                          0.1506855985
                        ],
                        "iteration": 96,
                        "passed_time": 42.84282562,
                        "remaining_time": 1.325035844,
                        "test": [
                          0.9796455286,
                          0.1534234882
                        ]
                      },
                      {
                        "learn": [
                          0.1503027294
                        ],
                        "iteration": 97,
                        "passed_time": 43.09567613,
                        "remaining_time": 0.8795035945,
                        "test": [
                          0.979715945,
                          0.1531061259
                        ]
                      },
                      {
                        "learn": [
                          0.1502186375
                        ],
                        "iteration": 98,
                        "passed_time": 43.33228837,
                        "remaining_time": 0.4376998825,
                        "test": [
                          0.9797455469,
                          0.1530895045
                        ]
                      },
                      {
                        "learn": [
                          0.1501338633
                        ],
                        "iteration": 99,
                        "passed_time": 43.56339708,
                        "remaining_time": 0,
                        "test": [
                          0.9797782135,
                          0.1530539945
                        ]
                      }
                    ],
                    "meta": {
                      "test_sets": [
                        "test"
                      ],
                      "test_metrics": [
                        {
                          "best_value": "Max",
                          "name": "AUC"
                        },
                        {
                          "best_value": "Min",
                          "name": "Logloss"
                        }
                      ],
                      "learn_metrics": [
                        {
                          "best_value": "Min",
                          "name": "Logloss"
                        }
                      ],
                      "launch_mode": "Train",
                      "parameters": "",
                      "iteration_count": 100,
                      "learn_sets": [
                        "learn"
                      ],
                      "name": "experiment"
                    }
                  }
                }
              }
            },
            "layout": "IPY_MODEL_5ccc5e87a5b44dd595f2cf242c91f051"
          }
        },
        "e1f4b3a4d60342f19593f7fececae05d": {
          "model_module": "catboost-widget",
          "model_name": "CatboostWidgetModel",
          "model_module_version": "^1.0.0",
          "state": {
            "_dom_classes": [],
            "_model_module": "catboost-widget",
            "_model_module_version": "^1.0.0",
            "_model_name": "CatboostWidgetModel",
            "_view_count": null,
            "_view_module": "catboost-widget",
            "_view_module_version": "^1.0.0",
            "_view_name": "CatboostWidgetView",
            "data": {
              "catboost_info": {
                "path": "catboost_info",
                "name": "catboost_info",
                "content": {
                  "passed_iterations": 99,
                  "total_iterations": 100,
                  "data": {
                    "iterations": [
                      {
                        "learn": [
                          0.6330249532
                        ],
                        "iteration": 0,
                        "passed_time": 0.2877276605,
                        "remaining_time": 28.48503839,
                        "test": [
                          0.8417543808,
                          0.6323733673
                        ]
                      },
                      {
                        "learn": [
                          0.5719034473
                        ],
                        "iteration": 1,
                        "passed_time": 0.4842301942,
                        "remaining_time": 23.72727952,
                        "test": [
                          0.8914209416,
                          0.5717132638
                        ]
                      },
                      {
                        "learn": [
                          0.5251646092
                        ],
                        "iteration": 2,
                        "passed_time": 0.6871561692,
                        "remaining_time": 22.21804947,
                        "test": [
                          0.915149872,
                          0.5265421688
                        ]
                      },
                      {
                        "learn": [
                          0.494320388
                        ],
                        "iteration": 3,
                        "passed_time": 0.8884490071,
                        "remaining_time": 21.32277617,
                        "test": [
                          0.9261143593,
                          0.4956348427
                        ]
                      },
                      {
                        "learn": [
                          0.467610005
                        ],
                        "iteration": 4,
                        "passed_time": 1.091470795,
                        "remaining_time": 20.7379451,
                        "test": [
                          0.9294959197,
                          0.4702183975
                        ]
                      },
                      {
                        "learn": [
                          0.4415559103
                        ],
                        "iteration": 5,
                        "passed_time": 1.310512285,
                        "remaining_time": 20.53135914,
                        "test": [
                          0.9358616584,
                          0.4438452051
                        ]
                      },
                      {
                        "learn": [
                          0.4206231512
                        ],
                        "iteration": 6,
                        "passed_time": 1.5074885,
                        "remaining_time": 20.02806149,
                        "test": [
                          0.9423232292,
                          0.423234429
                        ]
                      },
                      {
                        "learn": [
                          0.4012195893
                        ],
                        "iteration": 7,
                        "passed_time": 1.711223639,
                        "remaining_time": 19.67907185,
                        "test": [
                          0.9454731329,
                          0.4057164467
                        ]
                      },
                      {
                        "learn": [
                          0.3803000365
                        ],
                        "iteration": 8,
                        "passed_time": 1.915938452,
                        "remaining_time": 19.37226657,
                        "test": [
                          0.9488689709,
                          0.3850888454
                        ]
                      },
                      {
                        "learn": [
                          0.3647839553
                        ],
                        "iteration": 9,
                        "passed_time": 2.126014644,
                        "remaining_time": 19.1341318,
                        "test": [
                          0.950674533,
                          0.3706262054
                        ]
                      },
                      {
                        "learn": [
                          0.3501888391
                        ],
                        "iteration": 10,
                        "passed_time": 2.342309587,
                        "remaining_time": 18.95141393,
                        "test": [
                          0.9519046534,
                          0.3575363927
                        ]
                      },
                      {
                        "learn": [
                          0.3370822058
                        ],
                        "iteration": 11,
                        "passed_time": 2.543509657,
                        "remaining_time": 18.65240415,
                        "test": [
                          0.9528475763,
                          0.3451855013
                        ]
                      },
                      {
                        "learn": [
                          0.3262636261
                        ],
                        "iteration": 12,
                        "passed_time": 2.751630447,
                        "remaining_time": 18.41475761,
                        "test": [
                          0.9546322077,
                          0.3353040211
                        ]
                      },
                      {
                        "learn": [
                          0.3163547468
                        ],
                        "iteration": 13,
                        "passed_time": 2.952799379,
                        "remaining_time": 18.13862476,
                        "test": [
                          0.9568823952,
                          0.3260352587
                        ]
                      },
                      {
                        "learn": [
                          0.3071825696
                        ],
                        "iteration": 14,
                        "passed_time": 3.168966686,
                        "remaining_time": 17.95747789,
                        "test": [
                          0.9585795667,
                          0.3175897208
                        ]
                      },
                      {
                        "learn": [
                          0.3003959767
                        ],
                        "iteration": 15,
                        "passed_time": 3.381597019,
                        "remaining_time": 17.75338435,
                        "test": [
                          0.9597181906,
                          0.3114344434
                        ]
                      },
                      {
                        "learn": [
                          0.2926342657
                        ],
                        "iteration": 16,
                        "passed_time": 3.580002598,
                        "remaining_time": 17.47883622,
                        "test": [
                          0.9604423889,
                          0.3043321006
                        ]
                      },
                      {
                        "learn": [
                          0.2851630179
                        ],
                        "iteration": 17,
                        "passed_time": 3.797261364,
                        "remaining_time": 17.2986351,
                        "test": [
                          0.9614210433,
                          0.2973827763
                        ]
                      },
                      {
                        "learn": [
                          0.2795846657
                        ],
                        "iteration": 18,
                        "passed_time": 4.109958533,
                        "remaining_time": 17.52140217,
                        "test": [
                          0.9621845611,
                          0.2922667178
                        ]
                      },
                      {
                        "learn": [
                          0.2729354071
                        ],
                        "iteration": 19,
                        "passed_time": 4.47963317,
                        "remaining_time": 17.91853268,
                        "test": [
                          0.9628800546,
                          0.2863669404
                        ]
                      },
                      {
                        "learn": [
                          0.2679853481
                        ],
                        "iteration": 20,
                        "passed_time": 4.83569205,
                        "remaining_time": 18.19141295,
                        "test": [
                          0.9638839752,
                          0.2819812858
                        ]
                      },
                      {
                        "learn": [
                          0.263480006
                        ],
                        "iteration": 21,
                        "passed_time": 5.209336092,
                        "remaining_time": 18.46946433,
                        "test": [
                          0.9644212932,
                          0.2780598155
                        ]
                      },
                      {
                        "learn": [
                          0.2592000996
                        ],
                        "iteration": 22,
                        "passed_time": 5.564634349,
                        "remaining_time": 18.62942804,
                        "test": [
                          0.9650513039,
                          0.2743111111
                        ]
                      },
                      {
                        "learn": [
                          0.2546301157
                        ],
                        "iteration": 23,
                        "passed_time": 5.897064878,
                        "remaining_time": 18.67403878,
                        "test": [
                          0.9659236608,
                          0.2701157138
                        ]
                      },
                      {
                        "learn": [
                          0.2504481751
                        ],
                        "iteration": 24,
                        "passed_time": 6.237837754,
                        "remaining_time": 18.71351326,
                        "test": [
                          0.9666483076,
                          0.2663457827
                        ]
                      },
                      {
                        "learn": [
                          0.2466974426
                        ],
                        "iteration": 25,
                        "passed_time": 6.573243206,
                        "remaining_time": 18.70846143,
                        "test": [
                          0.9667342725,
                          0.2630624766
                        ]
                      },
                      {
                        "learn": [
                          0.241822461
                        ],
                        "iteration": 26,
                        "passed_time": 6.774733504,
                        "remaining_time": 18.31687207,
                        "test": [
                          0.966610184,
                          0.259632747
                        ]
                      },
                      {
                        "learn": [
                          0.2365666827
                        ],
                        "iteration": 27,
                        "passed_time": 6.986050414,
                        "remaining_time": 17.96412964,
                        "test": [
                          0.9670238621,
                          0.2554544435
                        ]
                      },
                      {
                        "learn": [
                          0.2331716954
                        ],
                        "iteration": 28,
                        "passed_time": 7.187518889,
                        "remaining_time": 17.597029,
                        "test": [
                          0.9675258971,
                          0.2525548998
                        ]
                      },
                      {
                        "learn": [
                          0.2298975708
                        ],
                        "iteration": 29,
                        "passed_time": 7.390640269,
                        "remaining_time": 17.24482729,
                        "test": [
                          0.9679292594,
                          0.2497254235
                        ]
                      },
                      {
                        "learn": [
                          0.2266876717
                        ],
                        "iteration": 30,
                        "passed_time": 7.60912762,
                        "remaining_time": 16.93644535,
                        "test": [
                          0.9681958254,
                          0.2472391013
                        ]
                      },
                      {
                        "learn": [
                          0.223063499
                        ],
                        "iteration": 31,
                        "passed_time": 7.811984333,
                        "remaining_time": 16.60046671,
                        "test": [
                          0.9685437216,
                          0.2444928236
                        ]
                      },
                      {
                        "learn": [
                          0.2197832669
                        ],
                        "iteration": 32,
                        "passed_time": 8.014980095,
                        "remaining_time": 16.27283837,
                        "test": [
                          0.9687857689,
                          0.2418513647
                        ]
                      },
                      {
                        "learn": [
                          0.216423148
                        ],
                        "iteration": 33,
                        "passed_time": 8.213465808,
                        "remaining_time": 15.94378657,
                        "test": [
                          0.9694130884,
                          0.2385312378
                        ]
                      },
                      {
                        "learn": [
                          0.2131941342
                        ],
                        "iteration": 34,
                        "passed_time": 8.4097348,
                        "remaining_time": 15.61807891,
                        "test": [
                          0.9700344278,
                          0.2357803775
                        ]
                      },
                      {
                        "learn": [
                          0.2108717744
                        ],
                        "iteration": 35,
                        "passed_time": 8.626646853,
                        "remaining_time": 15.33626107,
                        "test": [
                          0.9702235506,
                          0.2337021626
                        ]
                      },
                      {
                        "learn": [
                          0.2081751778
                        ],
                        "iteration": 36,
                        "passed_time": 8.828639711,
                        "remaining_time": 15.0325487,
                        "test": [
                          0.9708031783,
                          0.2309243193
                        ]
                      },
                      {
                        "learn": [
                          0.2061877102
                        ],
                        "iteration": 37,
                        "passed_time": 9.041309208,
                        "remaining_time": 14.75160976,
                        "test": [
                          0.9711102599,
                          0.2295534642
                        ]
                      },
                      {
                        "learn": [
                          0.2038158309
                        ],
                        "iteration": 38,
                        "passed_time": 9.247633191,
                        "remaining_time": 14.46424679,
                        "test": [
                          0.9715529418,
                          0.2274246829
                        ]
                      },
                      {
                        "learn": [
                          0.2015044168
                        ],
                        "iteration": 39,
                        "passed_time": 9.445700287,
                        "remaining_time": 14.16855043,
                        "test": [
                          0.9717169479,
                          0.225932314
                        ]
                      },
                      {
                        "learn": [
                          0.1989649871
                        ],
                        "iteration": 40,
                        "passed_time": 9.651261001,
                        "remaining_time": 13.88839998,
                        "test": [
                          0.9722599471,
                          0.2234466342
                        ]
                      },
                      {
                        "learn": [
                          0.1964621522
                        ],
                        "iteration": 41,
                        "passed_time": 9.848997514,
                        "remaining_time": 13.60099657,
                        "test": [
                          0.9725315962,
                          0.2215796935
                        ]
                      },
                      {
                        "learn": [
                          0.1943343713
                        ],
                        "iteration": 42,
                        "passed_time": 10.05372109,
                        "remaining_time": 13.32702563,
                        "test": [
                          0.9727951721,
                          0.2198347193
                        ]
                      },
                      {
                        "learn": [
                          0.1924879288
                        ],
                        "iteration": 43,
                        "passed_time": 10.26924296,
                        "remaining_time": 13.06994559,
                        "test": [
                          0.972988481,
                          0.2185387406
                        ]
                      },
                      {
                        "learn": [
                          0.1902767643
                        ],
                        "iteration": 44,
                        "passed_time": 10.48473035,
                        "remaining_time": 12.81467043,
                        "test": [
                          0.9733085695,
                          0.2168487128
                        ]
                      },
                      {
                        "learn": [
                          0.1880308946
                        ],
                        "iteration": 45,
                        "passed_time": 10.69899569,
                        "remaining_time": 12.5596906,
                        "test": [
                          0.9735848532,
                          0.2152215677
                        ]
                      },
                      {
                        "learn": [
                          0.1857224859
                        ],
                        "iteration": 46,
                        "passed_time": 10.94218118,
                        "remaining_time": 12.33905538,
                        "test": [
                          0.9735350683,
                          0.2137718343
                        ]
                      },
                      {
                        "learn": [
                          0.183215996
                        ],
                        "iteration": 47,
                        "passed_time": 11.3020234,
                        "remaining_time": 12.24385868,
                        "test": [
                          0.9738073154,
                          0.2119329813
                        ]
                      },
                      {
                        "learn": [
                          0.1814776749
                        ],
                        "iteration": 48,
                        "passed_time": 11.68999404,
                        "remaining_time": 12.16713665,
                        "test": [
                          0.9740385984,
                          0.2106030165
                        ]
                      },
                      {
                        "learn": [
                          0.1799226432
                        ],
                        "iteration": 49,
                        "passed_time": 11.99565745,
                        "remaining_time": 11.99565745,
                        "test": [
                          0.9742806457,
                          0.2093194616
                        ]
                      },
                      {
                        "learn": [
                          0.1779063991
                        ],
                        "iteration": 50,
                        "passed_time": 12.19358353,
                        "remaining_time": 11.71540378,
                        "test": [
                          0.9745691887,
                          0.2074840104
                        ]
                      },
                      {
                        "learn": [
                          0.1759638964
                        ],
                        "iteration": 51,
                        "passed_time": 12.39328395,
                        "remaining_time": 11.43995441,
                        "test": [
                          0.9748036113,
                          0.2058786606
                        ]
                      },
                      {
                        "learn": [
                          0.1742341772
                        ],
                        "iteration": 52,
                        "passed_time": 12.59171473,
                        "remaining_time": 11.16623759,
                        "test": [
                          0.9749822688,
                          0.2048707876
                        ]
                      },
                      {
                        "learn": [
                          0.1723315973
                        ],
                        "iteration": 53,
                        "passed_time": 12.80789358,
                        "remaining_time": 10.91042786,
                        "test": [
                          0.9750286151,
                          0.2038641828
                        ]
                      },
                      {
                        "learn": [
                          0.1705699921
                        ],
                        "iteration": 54,
                        "passed_time": 13.01255795,
                        "remaining_time": 10.64663832,
                        "test": [
                          0.9752971246,
                          0.2024454388
                        ]
                      },
                      {
                        "learn": [
                          0.1685623221
                        ],
                        "iteration": 55,
                        "passed_time": 13.21829177,
                        "remaining_time": 10.38580068,
                        "test": [
                          0.9756025617,
                          0.2009838047
                        ]
                      },
                      {
                        "learn": [
                          0.1671493038
                        ],
                        "iteration": 56,
                        "passed_time": 13.40694473,
                        "remaining_time": 10.11401094,
                        "test": [
                          0.9757260521,
                          0.1999951789
                        ]
                      },
                      {
                        "learn": [
                          0.1655339165
                        ],
                        "iteration": 57,
                        "passed_time": 13.60552898,
                        "remaining_time": 9.852279606,
                        "test": [
                          0.9759035136,
                          0.1986364031
                        ]
                      },
                      {
                        "learn": [
                          0.1640620799
                        ],
                        "iteration": 58,
                        "passed_time": 13.83507718,
                        "remaining_time": 9.614206173,
                        "test": [
                          0.9760570544,
                          0.1974639561
                        ]
                      },
                      {
                        "learn": [
                          0.1624869221
                        ],
                        "iteration": 59,
                        "passed_time": 14.04725227,
                        "remaining_time": 9.364834846,
                        "test": [
                          0.9761878705,
                          0.1961116945
                        ]
                      },
                      {
                        "learn": [
                          0.1608732497
                        ],
                        "iteration": 60,
                        "passed_time": 14.24689649,
                        "remaining_time": 9.108671526,
                        "test": [
                          0.9763750498,
                          0.1951459613
                        ]
                      },
                      {
                        "learn": [
                          0.1594049508
                        ],
                        "iteration": 61,
                        "passed_time": 14.44006919,
                        "remaining_time": 8.850364989,
                        "test": [
                          0.9764088377,
                          0.1942322721
                        ]
                      },
                      {
                        "learn": [
                          0.1580523931
                        ],
                        "iteration": 62,
                        "passed_time": 14.63282515,
                        "remaining_time": 8.593881438,
                        "test": [
                          0.9764756661,
                          0.1933325923
                        ]
                      },
                      {
                        "learn": [
                          0.156585832
                        ],
                        "iteration": 63,
                        "passed_time": 14.82869635,
                        "remaining_time": 8.341141699,
                        "test": [
                          0.9766834769,
                          0.1923757758
                        ]
                      },
                      {
                        "learn": [
                          0.155130466
                        ],
                        "iteration": 64,
                        "passed_time": 15.0455773,
                        "remaining_time": 8.101464699,
                        "test": [
                          0.9767598736,
                          0.191590841
                        ]
                      },
                      {
                        "learn": [
                          0.1535638678
                        ],
                        "iteration": 65,
                        "passed_time": 15.25103943,
                        "remaining_time": 7.856596067,
                        "test": [
                          0.9768779819,
                          0.1906250594
                        ]
                      },
                      {
                        "learn": [
                          0.1521016077
                        ],
                        "iteration": 66,
                        "passed_time": 15.44229802,
                        "remaining_time": 7.605907979,
                        "test": [
                          0.9770238979,
                          0.1894703081
                        ]
                      },
                      {
                        "learn": [
                          0.1507288535
                        ],
                        "iteration": 67,
                        "passed_time": 15.63159761,
                        "remaining_time": 7.356045933,
                        "test": [
                          0.9770890818,
                          0.1885399533
                        ]
                      },
                      {
                        "learn": [
                          0.149762371
                        ],
                        "iteration": 68,
                        "passed_time": 15.82392615,
                        "remaining_time": 7.109300154,
                        "test": [
                          0.9771258598,
                          0.1879267323
                        ]
                      },
                      {
                        "learn": [
                          0.1487833834
                        ],
                        "iteration": 69,
                        "passed_time": 16.03490056,
                        "remaining_time": 6.872100242,
                        "test": [
                          0.9772106287,
                          0.1874287499
                        ]
                      },
                      {
                        "learn": [
                          0.1475715958
                        ],
                        "iteration": 70,
                        "passed_time": 16.23512846,
                        "remaining_time": 6.631249653,
                        "test": [
                          0.9773252984,
                          0.1866917792
                        ]
                      },
                      {
                        "learn": [
                          0.1462917179
                        ],
                        "iteration": 71,
                        "passed_time": 16.42679078,
                        "remaining_time": 6.388196414,
                        "test": [
                          0.9773384547,
                          0.1859406845
                        ]
                      },
                      {
                        "learn": [
                          0.1451315853
                        ],
                        "iteration": 72,
                        "passed_time": 16.68054735,
                        "remaining_time": 6.169517514,
                        "test": [
                          0.9773589368,
                          0.1855580899
                        ]
                      },
                      {
                        "learn": [
                          0.1437014519
                        ],
                        "iteration": 73,
                        "passed_time": 17.04094897,
                        "remaining_time": 5.987360447,
                        "test": [
                          0.977509936,
                          0.184684447
                        ]
                      },
                      {
                        "learn": [
                          0.1426445531
                        ],
                        "iteration": 74,
                        "passed_time": 17.4223959,
                        "remaining_time": 5.807465302,
                        "test": [
                          0.9776410512,
                          0.1839521882
                        ]
                      },
                      {
                        "learn": [
                          0.1413336665
                        ],
                        "iteration": 75,
                        "passed_time": 17.78929975,
                        "remaining_time": 5.617673604,
                        "test": [
                          0.977774708,
                          0.1832296955
                        ]
                      },
                      {
                        "learn": [
                          0.1400788361
                        ],
                        "iteration": 76,
                        "passed_time": 18.13960053,
                        "remaining_time": 5.418322236,
                        "test": [
                          0.9780007583,
                          0.1822822873
                        ]
                      },
                      {
                        "learn": [
                          0.1390432707
                        ],
                        "iteration": 77,
                        "passed_time": 18.47645735,
                        "remaining_time": 5.211308483,
                        "test": [
                          0.9780734173,
                          0.1817611323
                        ]
                      },
                      {
                        "learn": [
                          0.1379132693
                        ],
                        "iteration": 78,
                        "passed_time": 18.82241175,
                        "remaining_time": 5.003425908,
                        "test": [
                          0.9781421892,
                          0.1811431522
                        ]
                      },
                      {
                        "learn": [
                          0.1366865789
                        ],
                        "iteration": 79,
                        "passed_time": 19.18783873,
                        "remaining_time": 4.796959681,
                        "test": [
                          0.9782985706,
                          0.1802959483
                        ]
                      },
                      {
                        "learn": [
                          0.1355477111
                        ],
                        "iteration": 80,
                        "passed_time": 19.38350569,
                        "remaining_time": 4.546748249,
                        "test": [
                          0.9784570451,
                          0.1794928852
                        ]
                      },
                      {
                        "learn": [
                          0.1345314373
                        ],
                        "iteration": 81,
                        "passed_time": 19.58075244,
                        "remaining_time": 4.29821395,
                        "test": [
                          0.9785480931,
                          0.1789229124
                        ]
                      },
                      {
                        "learn": [
                          0.1334444452
                        ],
                        "iteration": 82,
                        "passed_time": 19.77458256,
                        "remaining_time": 4.050215706,
                        "test": [
                          0.9786759192,
                          0.1781799998
                        ]
                      },
                      {
                        "learn": [
                          0.1321265969
                        ],
                        "iteration": 83,
                        "passed_time": 19.97434287,
                        "remaining_time": 3.804636737,
                        "test": [
                          0.9788541282,
                          0.1772625155
                        ]
                      },
                      {
                        "learn": [
                          0.1307910287
                        ],
                        "iteration": 84,
                        "passed_time": 20.1934029,
                        "remaining_time": 3.563541688,
                        "test": [
                          0.9790496796,
                          0.1761744363
                        ]
                      },
                      {
                        "learn": [
                          0.1300042245
                        ],
                        "iteration": 85,
                        "passed_time": 20.38706218,
                        "remaining_time": 3.318824075,
                        "test": [
                          0.9790694142,
                          0.175870344
                        ]
                      },
                      {
                        "learn": [
                          0.1288680248
                        ],
                        "iteration": 86,
                        "passed_time": 20.58534085,
                        "remaining_time": 3.075970472,
                        "test": [
                          0.9791621068,
                          0.1752589853
                        ]
                      },
                      {
                        "learn": [
                          0.1279753425
                        ],
                        "iteration": 87,
                        "passed_time": 20.78612884,
                        "remaining_time": 2.834472115,
                        "test": [
                          0.9792607796,
                          0.1747734643
                        ]
                      },
                      {
                        "learn": [
                          0.1269641766
                        ],
                        "iteration": 88,
                        "passed_time": 20.98175263,
                        "remaining_time": 2.593250325,
                        "test": [
                          0.9793353821,
                          0.1742135635
                        ]
                      },
                      {
                        "learn": [
                          0.1257014183
                        ],
                        "iteration": 89,
                        "passed_time": 21.19422035,
                        "remaining_time": 2.354913372,
                        "test": [
                          0.9793806819,
                          0.1735091916
                        ]
                      },
                      {
                        "learn": [
                          0.1242371536
                        ],
                        "iteration": 90,
                        "passed_time": 21.39598548,
                        "remaining_time": 2.116086476,
                        "test": [
                          0.9794792052,
                          0.1727153771
                        ]
                      },
                      {
                        "learn": [
                          0.1232140308
                        ],
                        "iteration": 91,
                        "passed_time": 21.59034878,
                        "remaining_time": 1.877421633,
                        "test": [
                          0.9796433608,
                          0.1719266668
                        ]
                      },
                      {
                        "learn": [
                          0.1222375411
                        ],
                        "iteration": 92,
                        "passed_time": 21.78634711,
                        "remaining_time": 1.639832578,
                        "test": [
                          0.9797134782,
                          0.1714652351
                        ]
                      },
                      {
                        "learn": [
                          0.1212220621
                        ],
                        "iteration": 93,
                        "passed_time": 21.9767999,
                        "remaining_time": 1.402774461,
                        "test": [
                          0.9798743447,
                          0.1707925384
                        ]
                      },
                      {
                        "learn": [
                          0.1201751223
                        ],
                        "iteration": 94,
                        "passed_time": 22.19799581,
                        "remaining_time": 1.168315569,
                        "test": [
                          0.9799825858,
                          0.1702794063
                        ]
                      },
                      {
                        "learn": [
                          0.1190950845
                        ],
                        "iteration": 95,
                        "passed_time": 22.39319812,
                        "remaining_time": 0.9330499217,
                        "test": [
                          0.9800190648,
                          0.1697963553
                        ]
                      },
                      {
                        "learn": [
                          0.118085387
                        ],
                        "iteration": 96,
                        "passed_time": 22.58498828,
                        "remaining_time": 0.698504792,
                        "test": [
                          0.9801495819,
                          0.1692198089
                        ]
                      },
                      {
                        "learn": [
                          0.1170920474
                        ],
                        "iteration": 97,
                        "passed_time": 22.77223031,
                        "remaining_time": 0.4647393941,
                        "test": [
                          0.9801951807,
                          0.1687273161
                        ]
                      },
                      {
                        "learn": [
                          0.1160866154
                        ],
                        "iteration": 98,
                        "passed_time": 22.96545982,
                        "remaining_time": 0.2319743416,
                        "test": [
                          0.9803034217,
                          0.1680971557
                        ]
                      },
                      {
                        "learn": [
                          0.1150598496
                        ],
                        "iteration": 99,
                        "passed_time": 23.17169595,
                        "remaining_time": 0,
                        "test": [
                          0.9803535056,
                          0.1677762044
                        ]
                      }
                    ],
                    "meta": {
                      "test_sets": [
                        "test"
                      ],
                      "test_metrics": [
                        {
                          "best_value": "Max",
                          "name": "AUC"
                        },
                        {
                          "best_value": "Min",
                          "name": "Logloss"
                        }
                      ],
                      "learn_metrics": [
                        {
                          "best_value": "Min",
                          "name": "Logloss"
                        }
                      ],
                      "launch_mode": "Train",
                      "parameters": "",
                      "iteration_count": 100,
                      "learn_sets": [
                        "learn"
                      ],
                      "name": "experiment"
                    }
                  }
                }
              }
            },
            "layout": "IPY_MODEL_24e04cbb0e184566ab91d6a6e211800e"
          }
        }
      }
    }
  },
  "cells": [
    {
      "cell_type": "code",
      "source": [
        "!pip install catboost\n",
        "!pip install transformers"
      ],
      "metadata": {
        "colab": {
          "base_uri": "https://localhost:8080/"
        },
        "id": "n44kt2Wpugpm",
        "outputId": "fd120fc9-3065-4552-e2ce-2c689a06314f"
      },
      "execution_count": null,
      "outputs": [
        {
          "output_type": "stream",
          "name": "stdout",
          "text": [
            "Requirement already satisfied: catboost in /usr/local/lib/python3.10/dist-packages (1.2.5)\n",
            "Requirement already satisfied: graphviz in /usr/local/lib/python3.10/dist-packages (from catboost) (0.20.3)\n",
            "Requirement already satisfied: matplotlib in /usr/local/lib/python3.10/dist-packages (from catboost) (3.7.1)\n",
            "Requirement already satisfied: numpy>=1.16.0 in /usr/local/lib/python3.10/dist-packages (from catboost) (1.25.2)\n",
            "Requirement already satisfied: pandas>=0.24 in /usr/local/lib/python3.10/dist-packages (from catboost) (2.0.3)\n",
            "Requirement already satisfied: scipy in /usr/local/lib/python3.10/dist-packages (from catboost) (1.11.4)\n",
            "Requirement already satisfied: plotly in /usr/local/lib/python3.10/dist-packages (from catboost) (5.15.0)\n",
            "Requirement already satisfied: six in /usr/local/lib/python3.10/dist-packages (from catboost) (1.16.0)\n",
            "Requirement already satisfied: python-dateutil>=2.8.2 in /usr/local/lib/python3.10/dist-packages (from pandas>=0.24->catboost) (2.8.2)\n",
            "Requirement already satisfied: pytz>=2020.1 in /usr/local/lib/python3.10/dist-packages (from pandas>=0.24->catboost) (2023.4)\n",
            "Requirement already satisfied: tzdata>=2022.1 in /usr/local/lib/python3.10/dist-packages (from pandas>=0.24->catboost) (2024.1)\n",
            "Requirement already satisfied: contourpy>=1.0.1 in /usr/local/lib/python3.10/dist-packages (from matplotlib->catboost) (1.2.1)\n",
            "Requirement already satisfied: cycler>=0.10 in /usr/local/lib/python3.10/dist-packages (from matplotlib->catboost) (0.12.1)\n",
            "Requirement already satisfied: fonttools>=4.22.0 in /usr/local/lib/python3.10/dist-packages (from matplotlib->catboost) (4.51.0)\n",
            "Requirement already satisfied: kiwisolver>=1.0.1 in /usr/local/lib/python3.10/dist-packages (from matplotlib->catboost) (1.4.5)\n",
            "Requirement already satisfied: packaging>=20.0 in /usr/local/lib/python3.10/dist-packages (from matplotlib->catboost) (24.0)\n",
            "Requirement already satisfied: pillow>=6.2.0 in /usr/local/lib/python3.10/dist-packages (from matplotlib->catboost) (9.4.0)\n",
            "Requirement already satisfied: pyparsing>=2.3.1 in /usr/local/lib/python3.10/dist-packages (from matplotlib->catboost) (3.1.2)\n",
            "Requirement already satisfied: tenacity>=6.2.0 in /usr/local/lib/python3.10/dist-packages (from plotly->catboost) (8.2.3)\n",
            "Requirement already satisfied: transformers in /usr/local/lib/python3.10/dist-packages (4.40.1)\n",
            "Requirement already satisfied: filelock in /usr/local/lib/python3.10/dist-packages (from transformers) (3.14.0)\n",
            "Requirement already satisfied: huggingface-hub<1.0,>=0.19.3 in /usr/local/lib/python3.10/dist-packages (from transformers) (0.20.3)\n",
            "Requirement already satisfied: numpy>=1.17 in /usr/local/lib/python3.10/dist-packages (from transformers) (1.25.2)\n",
            "Requirement already satisfied: packaging>=20.0 in /usr/local/lib/python3.10/dist-packages (from transformers) (24.0)\n",
            "Requirement already satisfied: pyyaml>=5.1 in /usr/local/lib/python3.10/dist-packages (from transformers) (6.0.1)\n",
            "Requirement already satisfied: regex!=2019.12.17 in /usr/local/lib/python3.10/dist-packages (from transformers) (2023.12.25)\n",
            "Requirement already satisfied: requests in /usr/local/lib/python3.10/dist-packages (from transformers) (2.31.0)\n",
            "Requirement already satisfied: tokenizers<0.20,>=0.19 in /usr/local/lib/python3.10/dist-packages (from transformers) (0.19.1)\n",
            "Requirement already satisfied: safetensors>=0.4.1 in /usr/local/lib/python3.10/dist-packages (from transformers) (0.4.3)\n",
            "Requirement already satisfied: tqdm>=4.27 in /usr/local/lib/python3.10/dist-packages (from transformers) (4.66.2)\n",
            "Requirement already satisfied: fsspec>=2023.5.0 in /usr/local/lib/python3.10/dist-packages (from huggingface-hub<1.0,>=0.19.3->transformers) (2023.6.0)\n",
            "Requirement already satisfied: typing-extensions>=3.7.4.3 in /usr/local/lib/python3.10/dist-packages (from huggingface-hub<1.0,>=0.19.3->transformers) (4.11.0)\n",
            "Requirement already satisfied: charset-normalizer<4,>=2 in /usr/local/lib/python3.10/dist-packages (from requests->transformers) (3.3.2)\n",
            "Requirement already satisfied: idna<4,>=2.5 in /usr/local/lib/python3.10/dist-packages (from requests->transformers) (3.7)\n",
            "Requirement already satisfied: urllib3<3,>=1.21.1 in /usr/local/lib/python3.10/dist-packages (from requests->transformers) (2.0.7)\n",
            "Requirement already satisfied: certifi>=2017.4.17 in /usr/local/lib/python3.10/dist-packages (from requests->transformers) (2024.2.2)\n"
          ]
        }
      ]
    },
    {
      "cell_type": "code",
      "execution_count": null,
      "metadata": {
        "id": "OXaj8x6suQzq"
      },
      "outputs": [],
      "source": [
        "from sklearn.linear_model import LogisticRegression\n",
        "from sklearn.metrics import roc_auc_score\n",
        "from sklearn.preprocessing import LabelEncoder\n",
        "import numpy as np\n",
        "from sklearn.model_selection import train_test_split\n",
        "from sklearn.metrics import roc_auc_score, precision_recall_curve\n",
        "import os\n",
        "from catboost import  Pool\n",
        "import pandas as pd\n",
        "from torch.utils.data import DataLoader, Dataset\n",
        "\n",
        "from catboost import CatBoostClassifier\n",
        "from transformers import AutoModel, AutoTokenizer\n",
        "import torch"
      ]
    },
    {
      "cell_type": "code",
      "source": [
        "df = pd.read_csv('train_spam.csv').head()\n",
        "df"
      ],
      "metadata": {
        "colab": {
          "base_uri": "https://localhost:8080/",
          "height": 206
        },
        "id": "x3UV8TlXypHJ",
        "outputId": "d3541417-e100-4594-9b3c-882e05196fea"
      },
      "execution_count": null,
      "outputs": [
        {
          "output_type": "execute_result",
          "data": {
            "text/plain": [
              "  text_type                                               text\n",
              "0       ham  make sure alex knows his birthday is over in f...\n",
              "1       ham  a resume for john lavorato thanks vince i will...\n",
              "2      spam  plzz visit my website moviesgodml to get all m...\n",
              "3      spam  urgent your mobile number has been awarded wit...\n",
              "4       ham  overview of hr associates analyst project per ..."
            ],
            "text/html": [
              "\n",
              "  <div id=\"df-caff819d-12f7-498e-b283-8be35f2c9ab1\" class=\"colab-df-container\">\n",
              "    <div>\n",
              "<style scoped>\n",
              "    .dataframe tbody tr th:only-of-type {\n",
              "        vertical-align: middle;\n",
              "    }\n",
              "\n",
              "    .dataframe tbody tr th {\n",
              "        vertical-align: top;\n",
              "    }\n",
              "\n",
              "    .dataframe thead th {\n",
              "        text-align: right;\n",
              "    }\n",
              "</style>\n",
              "<table border=\"1\" class=\"dataframe\">\n",
              "  <thead>\n",
              "    <tr style=\"text-align: right;\">\n",
              "      <th></th>\n",
              "      <th>text_type</th>\n",
              "      <th>text</th>\n",
              "    </tr>\n",
              "  </thead>\n",
              "  <tbody>\n",
              "    <tr>\n",
              "      <th>0</th>\n",
              "      <td>ham</td>\n",
              "      <td>make sure alex knows his birthday is over in f...</td>\n",
              "    </tr>\n",
              "    <tr>\n",
              "      <th>1</th>\n",
              "      <td>ham</td>\n",
              "      <td>a resume for john lavorato thanks vince i will...</td>\n",
              "    </tr>\n",
              "    <tr>\n",
              "      <th>2</th>\n",
              "      <td>spam</td>\n",
              "      <td>plzz visit my website moviesgodml to get all m...</td>\n",
              "    </tr>\n",
              "    <tr>\n",
              "      <th>3</th>\n",
              "      <td>spam</td>\n",
              "      <td>urgent your mobile number has been awarded wit...</td>\n",
              "    </tr>\n",
              "    <tr>\n",
              "      <th>4</th>\n",
              "      <td>ham</td>\n",
              "      <td>overview of hr associates analyst project per ...</td>\n",
              "    </tr>\n",
              "  </tbody>\n",
              "</table>\n",
              "</div>\n",
              "    <div class=\"colab-df-buttons\">\n",
              "\n",
              "  <div class=\"colab-df-container\">\n",
              "    <button class=\"colab-df-convert\" onclick=\"convertToInteractive('df-caff819d-12f7-498e-b283-8be35f2c9ab1')\"\n",
              "            title=\"Convert this dataframe to an interactive table.\"\n",
              "            style=\"display:none;\">\n",
              "\n",
              "  <svg xmlns=\"http://www.w3.org/2000/svg\" height=\"24px\" viewBox=\"0 -960 960 960\">\n",
              "    <path d=\"M120-120v-720h720v720H120Zm60-500h600v-160H180v160Zm220 220h160v-160H400v160Zm0 220h160v-160H400v160ZM180-400h160v-160H180v160Zm440 0h160v-160H620v160ZM180-180h160v-160H180v160Zm440 0h160v-160H620v160Z\"/>\n",
              "  </svg>\n",
              "    </button>\n",
              "\n",
              "  <style>\n",
              "    .colab-df-container {\n",
              "      display:flex;\n",
              "      gap: 12px;\n",
              "    }\n",
              "\n",
              "    .colab-df-convert {\n",
              "      background-color: #E8F0FE;\n",
              "      border: none;\n",
              "      border-radius: 50%;\n",
              "      cursor: pointer;\n",
              "      display: none;\n",
              "      fill: #1967D2;\n",
              "      height: 32px;\n",
              "      padding: 0 0 0 0;\n",
              "      width: 32px;\n",
              "    }\n",
              "\n",
              "    .colab-df-convert:hover {\n",
              "      background-color: #E2EBFA;\n",
              "      box-shadow: 0px 1px 2px rgba(60, 64, 67, 0.3), 0px 1px 3px 1px rgba(60, 64, 67, 0.15);\n",
              "      fill: #174EA6;\n",
              "    }\n",
              "\n",
              "    .colab-df-buttons div {\n",
              "      margin-bottom: 4px;\n",
              "    }\n",
              "\n",
              "    [theme=dark] .colab-df-convert {\n",
              "      background-color: #3B4455;\n",
              "      fill: #D2E3FC;\n",
              "    }\n",
              "\n",
              "    [theme=dark] .colab-df-convert:hover {\n",
              "      background-color: #434B5C;\n",
              "      box-shadow: 0px 1px 3px 1px rgba(0, 0, 0, 0.15);\n",
              "      filter: drop-shadow(0px 1px 2px rgba(0, 0, 0, 0.3));\n",
              "      fill: #FFFFFF;\n",
              "    }\n",
              "  </style>\n",
              "\n",
              "    <script>\n",
              "      const buttonEl =\n",
              "        document.querySelector('#df-caff819d-12f7-498e-b283-8be35f2c9ab1 button.colab-df-convert');\n",
              "      buttonEl.style.display =\n",
              "        google.colab.kernel.accessAllowed ? 'block' : 'none';\n",
              "\n",
              "      async function convertToInteractive(key) {\n",
              "        const element = document.querySelector('#df-caff819d-12f7-498e-b283-8be35f2c9ab1');\n",
              "        const dataTable =\n",
              "          await google.colab.kernel.invokeFunction('convertToInteractive',\n",
              "                                                    [key], {});\n",
              "        if (!dataTable) return;\n",
              "\n",
              "        const docLinkHtml = 'Like what you see? Visit the ' +\n",
              "          '<a target=\"_blank\" href=https://colab.research.google.com/notebooks/data_table.ipynb>data table notebook</a>'\n",
              "          + ' to learn more about interactive tables.';\n",
              "        element.innerHTML = '';\n",
              "        dataTable['output_type'] = 'display_data';\n",
              "        await google.colab.output.renderOutput(dataTable, element);\n",
              "        const docLink = document.createElement('div');\n",
              "        docLink.innerHTML = docLinkHtml;\n",
              "        element.appendChild(docLink);\n",
              "      }\n",
              "    </script>\n",
              "  </div>\n",
              "\n",
              "\n",
              "<div id=\"df-9811175c-4108-49e6-82b9-63bdd04491dc\">\n",
              "  <button class=\"colab-df-quickchart\" onclick=\"quickchart('df-9811175c-4108-49e6-82b9-63bdd04491dc')\"\n",
              "            title=\"Suggest charts\"\n",
              "            style=\"display:none;\">\n",
              "\n",
              "<svg xmlns=\"http://www.w3.org/2000/svg\" height=\"24px\"viewBox=\"0 0 24 24\"\n",
              "     width=\"24px\">\n",
              "    <g>\n",
              "        <path d=\"M19 3H5c-1.1 0-2 .9-2 2v14c0 1.1.9 2 2 2h14c1.1 0 2-.9 2-2V5c0-1.1-.9-2-2-2zM9 17H7v-7h2v7zm4 0h-2V7h2v10zm4 0h-2v-4h2v4z\"/>\n",
              "    </g>\n",
              "</svg>\n",
              "  </button>\n",
              "\n",
              "<style>\n",
              "  .colab-df-quickchart {\n",
              "      --bg-color: #E8F0FE;\n",
              "      --fill-color: #1967D2;\n",
              "      --hover-bg-color: #E2EBFA;\n",
              "      --hover-fill-color: #174EA6;\n",
              "      --disabled-fill-color: #AAA;\n",
              "      --disabled-bg-color: #DDD;\n",
              "  }\n",
              "\n",
              "  [theme=dark] .colab-df-quickchart {\n",
              "      --bg-color: #3B4455;\n",
              "      --fill-color: #D2E3FC;\n",
              "      --hover-bg-color: #434B5C;\n",
              "      --hover-fill-color: #FFFFFF;\n",
              "      --disabled-bg-color: #3B4455;\n",
              "      --disabled-fill-color: #666;\n",
              "  }\n",
              "\n",
              "  .colab-df-quickchart {\n",
              "    background-color: var(--bg-color);\n",
              "    border: none;\n",
              "    border-radius: 50%;\n",
              "    cursor: pointer;\n",
              "    display: none;\n",
              "    fill: var(--fill-color);\n",
              "    height: 32px;\n",
              "    padding: 0;\n",
              "    width: 32px;\n",
              "  }\n",
              "\n",
              "  .colab-df-quickchart:hover {\n",
              "    background-color: var(--hover-bg-color);\n",
              "    box-shadow: 0 1px 2px rgba(60, 64, 67, 0.3), 0 1px 3px 1px rgba(60, 64, 67, 0.15);\n",
              "    fill: var(--button-hover-fill-color);\n",
              "  }\n",
              "\n",
              "  .colab-df-quickchart-complete:disabled,\n",
              "  .colab-df-quickchart-complete:disabled:hover {\n",
              "    background-color: var(--disabled-bg-color);\n",
              "    fill: var(--disabled-fill-color);\n",
              "    box-shadow: none;\n",
              "  }\n",
              "\n",
              "  .colab-df-spinner {\n",
              "    border: 2px solid var(--fill-color);\n",
              "    border-color: transparent;\n",
              "    border-bottom-color: var(--fill-color);\n",
              "    animation:\n",
              "      spin 1s steps(1) infinite;\n",
              "  }\n",
              "\n",
              "  @keyframes spin {\n",
              "    0% {\n",
              "      border-color: transparent;\n",
              "      border-bottom-color: var(--fill-color);\n",
              "      border-left-color: var(--fill-color);\n",
              "    }\n",
              "    20% {\n",
              "      border-color: transparent;\n",
              "      border-left-color: var(--fill-color);\n",
              "      border-top-color: var(--fill-color);\n",
              "    }\n",
              "    30% {\n",
              "      border-color: transparent;\n",
              "      border-left-color: var(--fill-color);\n",
              "      border-top-color: var(--fill-color);\n",
              "      border-right-color: var(--fill-color);\n",
              "    }\n",
              "    40% {\n",
              "      border-color: transparent;\n",
              "      border-right-color: var(--fill-color);\n",
              "      border-top-color: var(--fill-color);\n",
              "    }\n",
              "    60% {\n",
              "      border-color: transparent;\n",
              "      border-right-color: var(--fill-color);\n",
              "    }\n",
              "    80% {\n",
              "      border-color: transparent;\n",
              "      border-right-color: var(--fill-color);\n",
              "      border-bottom-color: var(--fill-color);\n",
              "    }\n",
              "    90% {\n",
              "      border-color: transparent;\n",
              "      border-bottom-color: var(--fill-color);\n",
              "    }\n",
              "  }\n",
              "</style>\n",
              "\n",
              "  <script>\n",
              "    async function quickchart(key) {\n",
              "      const quickchartButtonEl =\n",
              "        document.querySelector('#' + key + ' button');\n",
              "      quickchartButtonEl.disabled = true;  // To prevent multiple clicks.\n",
              "      quickchartButtonEl.classList.add('colab-df-spinner');\n",
              "      try {\n",
              "        const charts = await google.colab.kernel.invokeFunction(\n",
              "            'suggestCharts', [key], {});\n",
              "      } catch (error) {\n",
              "        console.error('Error during call to suggestCharts:', error);\n",
              "      }\n",
              "      quickchartButtonEl.classList.remove('colab-df-spinner');\n",
              "      quickchartButtonEl.classList.add('colab-df-quickchart-complete');\n",
              "    }\n",
              "    (() => {\n",
              "      let quickchartButtonEl =\n",
              "        document.querySelector('#df-9811175c-4108-49e6-82b9-63bdd04491dc button');\n",
              "      quickchartButtonEl.style.display =\n",
              "        google.colab.kernel.accessAllowed ? 'block' : 'none';\n",
              "    })();\n",
              "  </script>\n",
              "</div>\n",
              "    </div>\n",
              "  </div>\n"
            ],
            "application/vnd.google.colaboratory.intrinsic+json": {
              "type": "dataframe",
              "variable_name": "df",
              "summary": "{\n  \"name\": \"df\",\n  \"rows\": 5,\n  \"fields\": [\n    {\n      \"column\": \"text_type\",\n      \"properties\": {\n        \"dtype\": \"category\",\n        \"num_unique_values\": 2,\n        \"samples\": [\n          \"spam\",\n          \"ham\"\n        ],\n        \"semantic_type\": \"\",\n        \"description\": \"\"\n      }\n    },\n    {\n      \"column\": \"text\",\n      \"properties\": {\n        \"dtype\": \"string\",\n        \"num_unique_values\": 5,\n        \"samples\": [\n          \"a resume for john lavorato thanks vince i will get moving on it right away molly vince j kaminski 02 21 2001 05 55 pm to molly magee hou ect ect cc vince j kaminski hou ect ect subject a resume for john lavorato molly please make arrangements for the interview with this candidate for a trading position interviews with john lavorato jeff shankman gary hickerson stinson gibner i talked to him in new york and he is considering other opportunities so we have to act fast i think john will like him more than punit thanks\",\n          \"overview of hr associates analyst project per david s request attached is an overview of the hr associates analysts project creating a human resource value index this document will provide a brief top line overview of the following description of the challenges people involved positive outcomes high level description of the process we suggest if you have any questions before our tuesday meeting please contact either myself or dan brown thanks tana cashion david oxley ect 10 05 2000 10 20 am to gerry gibson corp enron enron cc andrea yowman corp enron enron bob sparger corp enron enron tim o rourke corp enron enron ted c bland hou ect ect daniel brown na enron enron tana cashion na enron enron rhonna palmer hou ect ect cindy\"\n        ],\n        \"semantic_type\": \"\",\n        \"description\": \"\"\n      }\n    }\n  ]\n}"
            }
          },
          "metadata": {},
          "execution_count": 108
        }
      ]
    },
    {
      "cell_type": "code",
      "source": [
        "import matplotlib.pyplot as plt\n",
        "import seaborn as sns\n",
        "\n",
        "\n",
        "df = pd.read_csv('train_spam.csv')\n",
        "\n",
        "# matplotlib histogram\n",
        "plt.hist(df['text_type'], color = 'blue', edgecolor = 'black')\n",
        "\n",
        "\n"
      ],
      "metadata": {
        "colab": {
          "base_uri": "https://localhost:8080/",
          "height": 507
        },
        "id": "oqQ_GCm0wQ45",
        "outputId": "c10b8aa2-28b2-497b-e616-01b9f158c7cb"
      },
      "execution_count": null,
      "outputs": [
        {
          "output_type": "execute_result",
          "data": {
            "text/plain": [
              "(array([11469.,     0.,     0.,     0.,     0.,     0.,     0.,     0.,\n",
              "            0.,  4809.]),\n",
              " array([0. , 0.1, 0.2, 0.3, 0.4, 0.5, 0.6, 0.7, 0.8, 0.9, 1. ]),\n",
              " <BarContainer object of 10 artists>)"
            ]
          },
          "metadata": {},
          "execution_count": 109
        },
        {
          "output_type": "display_data",
          "data": {
            "text/plain": [
              "<Figure size 640x480 with 1 Axes>"
            ],
            "image/png": "[encoded data removed]"
          },
          "metadata": {}
        }
      ]
    },
    {
      "cell_type": "markdown",
      "source": [
        "построим датасет чтобы подавать на вход трансформеру батчи"
      ],
      "metadata": {
        "id": "WW2lRk9Wz320"
      }
    },
    {
      "cell_type": "code",
      "source": [
        "class CorpusDataset(Dataset):\n",
        "    def __init__(self, df, encoder):\n",
        "        self.df = df\n",
        "        self.texts = self.df['text'].values\n",
        "        self.encoder = encoder\n",
        "        self.labels = self.encoder.transform(self.df['text_type'].values)\n",
        "\n",
        "    def __len__(self):\n",
        "        return self.labels.shape[0]\n",
        "\n",
        "    def __getitem__(self, idx):\n",
        "        return self.labels[idx], self.texts[idx]"
      ],
      "metadata": {
        "id": "9FCBL2ooy2Va"
      },
      "execution_count": null,
      "outputs": []
    },
    {
      "cell_type": "markdown",
      "source": [
        "Будем использовать для хороших эмбеддингов e5\n"
      ],
      "metadata": {
        "id": "ygnG4WpWzmoL"
      }
    },
    {
      "cell_type": "code",
      "source": [
        "class EmbedModel:\n",
        "\n",
        "    def __init__(self, model, tokenizer, loader):\n",
        "        self.device = 'cuda' if torch.cuda.is_available() else 'cpu'\n",
        "        self.model = model.to(self.device)\n",
        "        self.loader = loader\n",
        "        self.tokenizer = tokenizer\n",
        "        self.model.eval()\n",
        "\n",
        "\n",
        "\n",
        "    def _batch_embeddings(self, batch_texts):\n",
        "        tokens = self.tokenizer(\n",
        "            batch_texts, padding=True, max_length=512, truncation=True, return_tensors=\"pt\"\n",
        "        ).to(self.device)\n",
        "        out = self.model(**tokens)\n",
        "        last_hidden = out.last_hidden_state.masked_fill(\n",
        "            ~tokens[\"attention_mask\"][..., None].bool(), 0.0\n",
        "        )\n",
        "        embeds = last_hidden.sum(dim=1) / \\\n",
        "                         tokens[\"attention_mask\"].sum(dim=1)[..., None]\n",
        "        return embeds.cpu().numpy().tolist()\n",
        "\n",
        "    def get_embeddings_labels(self):\n",
        "        all_embs = []\n",
        "        all_labels = []\n",
        "        for labels, texts in self.loader:\n",
        "            with torch.no_grad():\n",
        "                embs = self._batch_embeddings(texts)\n",
        "                # all_embs = np.concatenate((all_embs,embs), axis=0)\n",
        "                # all_labels = np.concatenate((all_labels, labels), axis=0)\n",
        "                all_embs.extend(embs)\n",
        "                all_labels.extend(labels)\n",
        "        return np.array(all_labels), np.array(all_embs)"
      ],
      "metadata": {
        "id": "v5ELoNNVy8PR"
      },
      "execution_count": null,
      "outputs": []
    },
    {
      "cell_type": "markdown",
      "source": [
        "поверх e5 обучим реализацию градиентоного бустинга - модель CatBoost"
      ],
      "metadata": {
        "id": "mHylPfQt0U3k"
      }
    },
    {
      "cell_type": "code",
      "source": [
        "def fit_catboost(train_data, test_data ):\n",
        "    CatBoostClassifier(eval_metric='AUC', verbose=100)\n",
        "    model = CatBoostClassifier(eval_metric='AUC', iterations=100, learning_rate=0.1, depth=6)\n",
        "    model.fit(train_data, eval_set = test_data, verbose=False, plot = True)\n",
        "    return model"
      ],
      "metadata": {
        "id": "ZgXrgx8kzIAL"
      },
      "execution_count": null,
      "outputs": []
    },
    {
      "cell_type": "markdown",
      "source": [
        "Попробуем обучить катбуст из коробки с текстовыми фичами"
      ],
      "metadata": {
        "id": "syMIbROQ0ahR"
      }
    },
    {
      "cell_type": "code",
      "source": [
        "def fit_box_catboost(train_data, test_data):\n",
        "    train_data = Pool(train_data['text'], train_data['text_type'],\n",
        "    text_features= ['text'], feature_names=['text'])\n",
        "    model = CatBoostClassifier(eval_metric='AUC', iterations=100, learning_rate=0.1, depth=6)\n",
        "    model.fit(train_data, eval_set=(test_data['text'].values,test_data['text_type'].values ), verbose=False,\n",
        "              plot=True)\n",
        "    return model"
      ],
      "metadata": {
        "id": "1b4Fx6dJzK8W"
      },
      "execution_count": null,
      "outputs": []
    },
    {
      "cell_type": "markdown",
      "source": [
        "Обучим линейную модель для классификации эмбеддингами e5"
      ],
      "metadata": {
        "id": "vM1Z3xrO0jTn"
      }
    },
    {
      "cell_type": "code",
      "source": [
        "def fit_log_reg(X, y):\n",
        "    logreg = LogisticRegression()\n",
        "    logreg.fit(X, y)\n",
        "    return logreg"
      ],
      "metadata": {
        "id": "z-gnKGkSzQkF"
      },
      "execution_count": null,
      "outputs": []
    },
    {
      "cell_type": "code",
      "source": [
        "def tests():\n",
        "    df = pd.read_csv('train_spam.csv')\n",
        "    train, test = train_test_split(df, test_size=0.35, random_state=0)\n",
        "    cb_box = fit_box_catboost(train, test)\n",
        "    predictions_cb_box = cb_box.predict_proba(list(map(lambda x: [x], test['text'].values)))\n",
        "    encoder = LabelEncoder().fit(test['text_type'].values)\n",
        "    train_dataset = CorpusDataset(train, encoder)\n",
        "    test_dataset = CorpusDataset(test, encoder)\n",
        "    loader_train = DataLoader(train_dataset, batch_size=100, shuffle=True)\n",
        "    loader_test = DataLoader(test_dataset, batch_size=100, shuffle=True)\n",
        "    device = \"cuda\" if torch.cuda.is_available() else \"cpu\"\n",
        "    model_id = \"intfloat/e5-base-v2\"\n",
        "\n",
        "\n",
        "    tokenizer = AutoTokenizer.from_pretrained(model_id)\n",
        "    model = AutoModel.from_pretrained(model_id).to(device)\n",
        "    labels_train, embed_train = EmbedModel(model, tokenizer, loader_train).get_embeddings_labels()\n",
        "    labels_test, embed_test = EmbedModel(model, tokenizer, loader_test).get_embeddings_labels()\n",
        "    train_data, test_data = Pool(embed_train, labels_train), Pool(embed_test, labels_test)\n",
        "    cb = fit_catboost(train_data, test_data)\n",
        "    predictions_e5 = cb.predict_proba(embed_test)\n",
        "    logreg = fit_log_reg(embed_train, labels_train)\n",
        "    logreg_predictions = logreg.predict_proba(embed_test)\n",
        "\n",
        "    ret ={'metric' : ['ROC AUC'],\n",
        "     'e5 + catboost' : [roc_auc_score(labels_test, predictions_e5[:, 1])],\n",
        "     'cb_box': [roc_auc_score(test['text_type'].values, predictions_cb_box[:, 1])],\n",
        "     'e5 + logreg': [roc_auc_score(labels_test, logreg_predictions[:, 1])]}\n",
        "    pd.DataFrame(ret).to_csv('scoring_models.csv')\n",
        "    ret"
      ],
      "metadata": {
        "id": "cXeIfT8O8Ok6"
      },
      "execution_count": null,
      "outputs": []
    },
    {
      "cell_type": "code",
      "source": [
        "tests()"
      ],
      "metadata": {
        "colab": {
          "base_uri": "https://localhost:8080/",
          "height": 182,
          "referenced_widgets": [
            "910d1ad3c65f42738369bd31f10c5684",
            "e1f4b3a4d60342f19593f7fececae05d"
          ]
        },
        "id": "X1kLAnQ59kXd",
        "outputId": "59be6be5-b0b9-4130-c0ad-3c12fe7e81c8"
      },
      "execution_count": null,
      "outputs": [
        {
          "output_type": "display_data",
          "data": {
            "text/plain": [
              "MetricVisualizer(layout=Layout(align_self='stretch', height='500px'))"
            ],
            "application/vnd.jupyter.widget-view+json": {
              "version_major": 2,
              "version_minor": 0,
              "model_id": "910d1ad3c65f42738369bd31f10c5684"
            }
          },
          "metadata": {}
        },
        {
          "output_type": "display_data",
          "data": {
            "text/plain": [
              "MetricVisualizer(layout=Layout(align_self='stretch', height='500px'))"
            ],
            "application/vnd.jupyter.widget-view+json": {
              "version_major": 2,
              "version_minor": 0,
              "model_id": "e1f4b3a4d60342f19593f7fececae05d"
            }
          },
          "metadata": {}
        },
        {
          "output_type": "stream",
          "name": "stderr",
          "text": [
            "/usr/local/lib/python3.10/dist-packages/sklearn/linear_model/_logistic.py:458: ConvergenceWarning: lbfgs failed to converge (status=1):\n",
            "STOP: TOTAL NO. of ITERATIONS REACHED LIMIT.\n",
            "\n",
            "Increase the number of iterations (max_iter) or scale the data as shown in:\n",
            "    https://scikit-learn.org/stable/modules/preprocessing.html\n",
            "Please also refer to the documentation for alternative solver options:\n",
            "    https://scikit-learn.org/stable/modules/linear_model.html#logistic-regression\n",
            "  n_iter_i = _check_optimize_result(\n"
          ]
        }
      ]
    },
    {
      "cell_type": "code",
      "source": [
        "try:\n",
        "  pd.read_csv('scoring_models.csv').drop(['Unnamed: 0'], axis=1).to_csv('scoring_models.csv', index=False)\n",
        "except:\n",
        "  'all is ok'\n",
        "finally:\n",
        "  print(pd.read_csv('scoring_models.csv'))"
      ],
      "metadata": {
        "id": "wjWjtKq_B0Pu",
        "outputId": "ce645c68-18b4-4910-885c-c29b1f9ed1cd",
        "colab": {
          "base_uri": "https://localhost:8080/"
        }
      },
      "execution_count": 124,
      "outputs": [
        {
          "output_type": "stream",
          "name": "stdout",
          "text": [
            "    metric  e5 + catboost    cb_box  e5 + logreg\n",
            "0  ROC AUC       0.980354  0.979778     0.986204\n"
          ]
        }
      ]
    },
    {
      "cell_type": "markdown",
      "source": [
        "Лучшая модель - логистическая регрессия над e5"
      ],
      "metadata": {
        "id": "DKie1iCbD6z1"
      }
    }
  ]
}